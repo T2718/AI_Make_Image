{
  "nbformat": 4,
  "nbformat_minor": 0,
  "metadata": {
    "colab": {
      "private_outputs": true,
      "provenance": [],
      "authorship_tag": "ABX9TyMCm7yzBDib4j9+Myhe1HY1",
      "include_colab_link": true
    },
    "kernelspec": {
      "name": "python3",
      "display_name": "Python 3"
    },
    "language_info": {
      "name": "python"
    }
  },
  "cells": [
    {
      "cell_type": "markdown",
      "metadata": {
        "id": "view-in-github",
        "colab_type": "text"
      },
      "source": [
        "<a href=\"https://colab.research.google.com/github/T2718/AI_Make_Image/blob/main/SecondAi.ipynb\" target=\"_parent\"><img src=\"https://colab.research.google.com/assets/colab-badge.svg\" alt=\"Open In Colab\"/></a>"
      ]
    },
    {
      "cell_type": "code",
      "execution_count": null,
      "metadata": {
        "id": "xmulZOHwhQOW"
      },
      "outputs": [],
      "source": [
        "!pip install transformers ftfy scipy\n",
        "!pip install diffusers==\"0.11.1\"\n",
        "!pip install jax==\"0.4.23\" jaxlib==\"0.4.23\"\n",
        "\n",
        "\n",
        "from diffusers import DiffusionPipeline\n",
        "from transformers import CLIPFeatureExtractor, CLIPModel\n",
        "import torch\n",
        "\n",
        "\n",
        "feature_extractor = CLIPFeatureExtractor.from_pretrained(\"laion/CLIP-ViT-B-32-laion2B-s34B-b79K\")\n",
        "clip_model = CLIPModel.from_pretrained(\"laion/CLIP-ViT-B-32-laion2B-s34B-b79K\", torch_dtype=torch.float16)\n",
        "\n",
        "\n",
        "guided_pipeline = DiffusionPipeline.from_pretrained(\n",
        "    \"CompVis/stable-diffusion-v1-4\",\n",
        "    custom_pipeline=\"clip_guided_stable_diffusion\",\n",
        "    clip_model=clip_model,\n",
        "    feature_extractor=feature_extractor,\n",
        "    torch_dtype=torch.float16,\n",
        ")\n",
        "guided_pipeline.enable_attention_slicing()\n",
        "guided_pipeline = guided_pipeline.to(\"cuda\")\n",
        "\n",
        "prompt = \"fantasy book cover, full moon, fantasy forest landscape, golden vector elements, fantasy magic, dark light night, intricate, elegant, sharp focus, illustration, highly detailed, digital painting, concept art, matte, art by WLOP and Artgerm and Albert Bierstadt, masterpiece\"\n",
        "\n",
        "generator = torch.Generator(device=\"cuda\").manual_seed(0)\n",
        "images = []\n",
        "for i in range(4):\n",
        "    image = guided_pipeline(\n",
        "        prompt,\n",
        "        num_inference_steps=50,\n",
        "        guidance_scale=7.5,\n",
        "        clip_guidance_scale=100,\n",
        "        num_cutouts=4,\n",
        "        use_cutouts=False,\n",
        "        generator=generator,\n",
        "    ).images[0]\n",
        "    images.append(image)\n",
        "\n",
        "# save images locally\n",
        "for i, img in enumerate(images):\n",
        "    img.save(f\"./clip_guided_sd/image_{i}.png\")"
      ]
    }
  ]
}