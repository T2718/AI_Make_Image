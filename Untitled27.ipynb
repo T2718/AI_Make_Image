{
  "nbformat": 4,
  "nbformat_minor": 0,
  "metadata": {
    "colab": {
      "private_outputs": true,
      "provenance": [],
      "gpuType": "T4",
      "authorship_tag": "ABX9TyOMrFSytF/2kqOOzauZI0aQ",
      "include_colab_link": true
    },
    "kernelspec": {
      "name": "python3",
      "display_name": "Python 3"
    },
    "language_info": {
      "name": "python"
    },
    "accelerator": "GPU"
  },
  "cells": [
    {
      "cell_type": "markdown",
      "metadata": {
        "id": "view-in-github",
        "colab_type": "text"
      },
      "source": [
        "<a href=\"https://colab.research.google.com/github/T2718/AI_Make_Image/blob/main/Untitled27.ipynb\" target=\"_parent\"><img src=\"https://colab.research.google.com/assets/colab-badge.svg\" alt=\"Open In Colab\"/></a>"
      ]
    },
    {
      "cell_type": "code",
      "execution_count": null,
      "metadata": {
        "id": "EfUW7BplhqeZ"
      },
      "outputs": [],
      "source": [
        "!pip install diffusers transformers accelerate\n",
        "\n",
        "from diffusers import DiffusionPipeline\n",
        "from google.colab import userdata\n",
        "\n",
        "# Get the Hugging Face token from Colab secrets\n",
        "hf_token = userdata.get(\"HF_TOKEN\")\n",
        "\n",
        "# Load the model, using the authentication token\n",
        "pipe = DiffusionPipeline.from_pretrained(\"cagliostrolab/illustrious-xl\", torch_dtype=\"auto\", use_auth_token=hf_token)\n",
        "pipe.to(\"cuda\")\n",
        "\n",
        "image = pipe(\"1girl, school uniform, standing in field, anime style\").images[0]\n",
        "image.show()"
      ]
    },
    {
      "cell_type": "code",
      "source": [],
      "metadata": {
        "id": "ck0gDz8zj47_"
      },
      "execution_count": null,
      "outputs": []
    }
  ]
}