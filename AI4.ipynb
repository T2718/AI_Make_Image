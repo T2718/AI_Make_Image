{
  "nbformat": 4,
  "nbformat_minor": 0,
  "metadata": {
    "colab": {
      "provenance": [],
      "gpuType": "T4",
      "include_colab_link": true
    },
    "kernelspec": {
      "name": "python3",
      "display_name": "Python 3"
    },
    "language_info": {
      "name": "python"
    },
    "accelerator": "GPU"
  },
  "cells": [
    {
      "cell_type": "markdown",
      "metadata": {
        "id": "view-in-github",
        "colab_type": "text"
      },
      "source": [
        "<a href=\"https://colab.research.google.com/github/T2718/AI_Make_Image/blob/main/AI4.ipynb\" target=\"_parent\"><img src=\"https://colab.research.google.com/assets/colab-badge.svg\" alt=\"Open In Colab\"/></a>"
      ]
    },
    {
      "cell_type": "code",
      "source": [
        "!rm -R output"
      ],
      "metadata": {
        "id": "x1V2hL5Ni7ip"
      },
      "execution_count": null,
      "outputs": []
    },
    {
      "cell_type": "code",
      "source": [
        "!pip install diffusers transformers accelerate\n",
        "\n",
        "import os\n",
        "import torch\n",
        "from diffusers import StableDiffusionPipeline\n",
        "from PIL import Image\n",
        "import requests\n",
        "from io import BytesIO\n",
        "\n",
        "\n",
        "model_list = ['stablediffusionapi/eleet-model','stablediffusionapi/brav6','Vsukiyaki/ShiratakiMix']\n",
        "model_id = ''\n",
        "while True:\n",
        "  set = input('設定(未入力でOK)')\n",
        "  if set == 'model':\n",
        "    model_id = input('model_idを入力')\n",
        "  elif set == 'model_list':\n",
        "    for k in range(len(model_list)):\n",
        "      print(str(1+k)+':'+model_list[k])\n",
        "    model_id = model_list[int(input('何番を使用しますか？'))-1]\n",
        "\n",
        "  elif set != '':\n",
        "    print('設定が見つかりません。')\n",
        "    continue\n",
        "  else:\n",
        "    break\n",
        "\n",
        "\n",
        "\n",
        "if model_id == '':\n",
        "  # Stable Diffusionのモデルをロード\n",
        "  model_id = \"stablediffusionapi/eleet-model\"\n",
        "\n",
        "pipe = StableDiffusionPipeline.from_pretrained(\n",
        "    model_id,\n",
        "    torch_dtype=torch.float16,\n",
        "    safety_checker=None  # Safe checkを無効に\n",
        ")\n",
        "pipe = pipe.to(\"cuda\")  # GPUが必要です\n",
        "\n",
        "# ユーザーからの入力を取得\n",
        "prompt = input(\"プロンプトを入力してください (強さをつける場合は形式: 'prompt1:weight, prompt2:weight'): \")\n",
        "negative_prompt = input(\"ネガティブプロンプトを入力してください: \")\n",
        "num_images = int(input(\"生成する画像の枚数を入力してください: \"))\n",
        "num_inference_steps = int(input(\"推論ステップ数を入力してください: \"))\n",
        "mode = input(\"text to image または image to image を選んでください (t/i): \")\n",
        "\n",
        "!mkdir output\n",
        "\n",
        "# フォルダ名をプロンプトの前15文字にする\n",
        "output_dir = 'output/'+prompt[:15].replace(\" \", \"_\")  # スペースをアンダースコアに置き換え\n",
        "os.makedirs(output_dir, exist_ok=True)\n",
        "\n",
        "# 画像生成\n",
        "if mode.lower() == 't':\n",
        "    for i in range(num_images):\n",
        "        image = pipe(\n",
        "            prompt=prompt,\n",
        "            negative_prompt=negative_prompt,\n",
        "            num_inference_steps=num_inference_steps\n",
        "        ).images[0]\n",
        "        # 画像をファイルに保存 (数字のファイル名)\n",
        "        image.save(os.path.join(output_dir, f\"{i + 1}.png\"))\n",
        "elif mode.lower() == 'i':\n",
        "    image_url = input(\"元画像のURLを入力してください: \")\n",
        "    response = requests.get(image_url)\n",
        "    original_image = Image.open(BytesIO(response.content)).convert(\"RGB\")\n",
        "\n",
        "    for i in range(num_images):\n",
        "        image = pipe(\n",
        "            prompt=prompt,\n",
        "            negative_prompt=negative_prompt,\n",
        "            image=original_image,\n",
        "            num_inference_steps=num_inference_steps\n",
        "        ).images[0]\n",
        "        # 画像をファイルに保存 (数字のファイル名)\n",
        "        image.save(os.path.join(output_dir, f\"{i + 1}.png\"))\n",
        "\n",
        "print(f\"生成された画像は '{output_dir}' フォルダに保存されました。\")\n"
      ],
      "metadata": {
        "id": "a13o6e7gdsFw"
      },
      "execution_count": null,
      "outputs": []
    },
    {
      "cell_type": "code",
      "source": [
        "!rm -r output"
      ],
      "metadata": {
        "id": "sqXCXpOaqdkv"
      },
      "execution_count": 7,
      "outputs": []
    }
  ]
}