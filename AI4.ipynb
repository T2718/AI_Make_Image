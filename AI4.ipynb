{
  "nbformat": 4,
  "nbformat_minor": 0,
  "metadata": {
    "colab": {
      "provenance": [],
      "gpuType": "T4",
      "authorship_tag": "ABX9TyOBii3ZwDRK0XrMQhSuKJ+H",
      "include_colab_link": true
    },
    "kernelspec": {
      "name": "python3",
      "display_name": "Python 3"
    },
    "language_info": {
      "name": "python"
    },
    "accelerator": "GPU"
  },
  "cells": [
    {
      "cell_type": "markdown",
      "metadata": {
        "id": "view-in-github",
        "colab_type": "text"
      },
      "source": [
        "<a href=\"https://colab.research.google.com/github/T2718/AI_Make_Image/blob/main/AI4.ipynb\" target=\"_parent\"><img src=\"https://colab.research.google.com/assets/colab-badge.svg\" alt=\"Open In Colab\"/></a>"
      ]
    },
    {
      "cell_type": "code",
      "source": [
        "!pip install diffusers transformers accelerate\n",
        "\n",
        "import os\n",
        "import torch\n",
        "from diffusers import StableDiffusionPipeline\n",
        "from PIL import Image\n",
        "import requests\n",
        "from io import BytesIO\n",
        "\n",
        "# Stable Diffusionのモデルをロード\n",
        "model_id = \"stablediffusionapi/eleet-model\"\n",
        "pipe = StableDiffusionPipeline.from_pretrained(\n",
        "    model_id,\n",
        "    torch_dtype=torch.float16,\n",
        "    safety_checker=None  # Safe checkを無効に\n",
        ")\n",
        "pipe = pipe.to(\"cuda\")  # GPUが必要です\n",
        "\n",
        "# 画像を保存するディレクトリの作成\n",
        "output_dir = \"generated_images\"\n",
        "os.makedirs(output_dir, exist_ok=True)\n",
        "\n",
        "# ユーザーからの入力を取得\n",
        "prompt = input(\"プロンプトを入力してください (強さをつける場合は形式: 'prompt1:weight, prompt2:weight'): \")\n",
        "negative_prompt = input(\"ネガティブプロンプトを入力してください: \")\n",
        "num_images = int(input(\"生成する画像の枚数を入力してください: \"))\n",
        "num_inference_steps = int(input(\"推論ステップ数を入力してください: \"))\n",
        "mode = input(\"text to image または image to image を選んでください (t/i): \")\n",
        "\n",
        "# プロンプトをファイル名用にサニタイズ\n",
        "sanitized_prompt = \"\".join(c for c in prompt if c.isalnum() or c in (' ', '_')).rstrip()\n",
        "\n",
        "# 画像生成\n",
        "images = []\n",
        "if mode.lower() == 't':\n",
        "    for i in range(num_images):\n",
        "        image = pipe(\n",
        "            prompt=prompt,\n",
        "            negative_prompt=negative_prompt,\n",
        "            num_inference_steps=num_inference_steps\n",
        "        ).images[0]\n",
        "        images.append(image)\n",
        "        # 画像をファイルに保存 (プロンプトに基づくファイル名)\n",
        "        image.save(os.path.join(output_dir, f\"{sanitized_prompt}_text_to_image_{i + 1}.png\"))\n",
        "elif mode.lower() == 'i':\n",
        "    image_url = input(\"元画像のURLを入力してください: \")\n",
        "    response = requests.get(image_url)\n",
        "    original_image = Image.open(BytesIO(response.content)).convert(\"RGB\")\n",
        "\n",
        "    for i in range(num_images):\n",
        "        image = pipe(\n",
        "            prompt=prompt,\n",
        "            negative_prompt=negative_prompt,\n",
        "            image=original_image,\n",
        "            num_inference_steps=num_inference_steps\n",
        "        ).images[0]\n",
        "        images.append(image)\n",
        "        # 画像をファイルに保存 (プロンプトに基づくファイル名)\n",
        "        image.save(os.path.join(output_dir, f\"{sanitized_prompt}_image_to_image_{i + 1}.png\"))\n",
        "\n",
        "print(f\"生成された画像は '{output_dir}' フォルダに保存されました。\")\n"
      ],
      "metadata": {
        "id": "KN_nzNuGVjGj"
      },
      "execution_count": null,
      "outputs": []
    }
  ]
}