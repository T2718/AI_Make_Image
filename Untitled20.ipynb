{
  "nbformat": 4,
  "nbformat_minor": 0,
  "metadata": {
    "colab": {
      "private_outputs": true,
      "provenance": [],
      "authorship_tag": "ABX9TyMR9Gsd7dR0d3UdrfVVadCq",
      "include_colab_link": true
    },
    "kernelspec": {
      "name": "python3",
      "display_name": "Python 3"
    },
    "language_info": {
      "name": "python"
    }
  },
  "cells": [
    {
      "cell_type": "markdown",
      "metadata": {
        "id": "view-in-github",
        "colab_type": "text"
      },
      "source": [
        "<a href=\"https://colab.research.google.com/github/T2718/AI_Make_Image/blob/main/Untitled20.ipynb\" target=\"_parent\"><img src=\"https://colab.research.google.com/assets/colab-badge.svg\" alt=\"Open In Colab\"/></a>"
      ]
    },
    {
      "cell_type": "code",
      "execution_count": null,
      "metadata": {
        "id": "bJkq1_N_USjA"
      },
      "outputs": [],
      "source": [
        "!pip install --upgrade diffusers transformers accelerate safetensors\n"
      ]
    },
    {
      "cell_type": "code",
      "source": [
        "import os\n",
        "import requests\n",
        "\n",
        "# 保存先フォルダの作成\n",
        "os.makedirs(\"models\", exist_ok=True)\n",
        "os.makedirs(\"lora\", exist_ok=True)\n",
        "\n",
        "# Civitaiなどから直リンク（またはGitHubやHuggingFaceから）\n",
        "# 🔷 例：ChilloutMix（要リンク確認）\n",
        "base_model_url = \"https://civitai.com/api/download/models/28100?type=Model&format=SafeTensor&size=full&fp=fp16\"\n",
        "#lora_url = \"https://civitai.com/api/download/models/YYYYY\"\n",
        "\n",
        "# モデル保存\n",
        "def download(url, filename):\n",
        "  r = requests.get(url)\n",
        "  with open(filename, \"wb\") as f:\n",
        "    f.write(r.content)\n",
        "\n",
        "download(base_model_url, \"models/chilloutmix.safetensors\")\n",
        "#download(lora_url, \"lora/anime_lora.safetensors\")\n"
      ],
      "metadata": {
        "id": "Z0P5YhabUUU7"
      },
      "execution_count": null,
      "outputs": []
    },
    {
      "cell_type": "code",
      "source": [
        "from diffusers import StableDiffusionPipeline, DPMSolverMultistepScheduler\n",
        "import torch\n",
        "\n",
        "# 🔧 設定項目\n",
        "model_path = \"models/model.safetensors\"\n",
        "lora_path = \"lora/lora.safetensors\"\n",
        "use_lora = False  # ← LoRAを使わないなら False に\n",
        "prompt = \"1girl, masterpiece, best quality, intricate details\"\n",
        "negative_prompt = \"lowres, blurry, bad anatomy\"\n",
        "\n",
        "# 🌟 モデル読み込み\n",
        "pipe = StableDiffusionPipeline.from_single_file(\n",
        "  model_path,\n",
        "  torch_dtype=torch.float16,\n",
        "  variant=\"fp16\",\n",
        "  use_safetensors=True,\n",
        "  safety_checker=None,\n",
        ").to(\"cuda\")\n",
        "\n",
        "pipe.scheduler = DPMSolverMultistepScheduler.from_config(pipe.scheduler.config)\n",
        "\n",
        "# ✅ LoRAを使う場合\n",
        "if use_lora:\n",
        "  pipe.load_lora_weights(lora_path, adapter_name=\"custom_lora\")\n",
        "  pipe.set_adapters([\"custom_lora\"], adapter_weights=[1.0])\n",
        "\n",
        "# 🎨 生成\n",
        "image = pipe(\n",
        "  prompt=prompt,\n",
        "  negative_prompt=negative_prompt,\n",
        "  num_inference_steps=30,\n",
        "  guidance_scale=7.5\n",
        ").images[0]\n",
        "\n",
        "image.save(\"output.png\")\n",
        "image.show()\n"
      ],
      "metadata": {
        "id": "wEIvR2NdUijG"
      },
      "execution_count": null,
      "outputs": []
    }
  ]
}