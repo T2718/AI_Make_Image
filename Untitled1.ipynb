{
  "nbformat": 4,
  "nbformat_minor": 0,
  "metadata": {
    "colab": {
      "private_outputs": true,
      "provenance": [],
      "authorship_tag": "ABX9TyOad9tz+5T41Rph1LLd2T4S",
      "include_colab_link": true
    },
    "kernelspec": {
      "name": "python3",
      "display_name": "Python 3"
    },
    "language_info": {
      "name": "python"
    }
  },
  "cells": [
    {
      "cell_type": "markdown",
      "metadata": {
        "id": "view-in-github",
        "colab_type": "text"
      },
      "source": [
        "<a href=\"https://colab.research.google.com/github/T2718/AI_Make_Image/blob/main/Untitled1.ipynb\" target=\"_parent\"><img src=\"https://colab.research.google.com/assets/colab-badge.svg\" alt=\"Open In Colab\"/></a>"
      ]
    },
    {
      "cell_type": "code",
      "source": [
        "# Check and install necessary dependencies if not already installed\n",
        "try:\n",
        "    import diffusers\n",
        "    import transformers\n",
        "    import accelerate\n",
        "    import scipy\n",
        "except ImportError:\n",
        "    import os\n",
        "    os.system('pip install diffusers transformers accelerate scipy')\n",
        "\n",
        "# Import necessary libraries\n",
        "import torch\n",
        "from torch import autocast\n",
        "from diffusers import StableDiffusionPipeline, StableDiffusionImg2ImgPipeline\n",
        "from PIL import Image\n",
        "import os\n",
        "\n",
        "# Define the parameters\n",
        "model_id = \"stablediffusionapi/anything-xl\"\n",
        "device = \"cuda\"\n",
        "\n",
        "# Load the models for both text-to-image and image-to-image generation\n",
        "pipe_txt2img = StableDiffusionPipeline.from_pretrained(model_id, torch_dtype=torch.float16, safety_checker=None)\n",
        "pipe_txt2img = pipe_txt2img.to(device)\n",
        "\n",
        "pipe_img2img = StableDiffusionImg2ImgPipeline.from_pretrained(model_id, torch_dtype=torch.float16, safety_checker=None)\n",
        "pipe_img2img = pipe_img2img.to(device)\n",
        "\n",
        "# Get user input for prompt, negative prompt, number of images, and number of iterations\n",
        "prompt = input(\"Enter the prompt for image generation: \")\n",
        "negative_prompt = input(\"Enter the negative prompt (optional, press Enter to skip): \")\n",
        "n_images = int(input(\"Enter the number of images to generate in each iteration: \"))\n",
        "n_iter = int(input(\"Enter the number of times to repeat the process: \"))\n",
        "\n",
        "# Ask if the user wants to use an input image\n",
        "use_img2img = input(\"Do you want to use an input image for reference? (yes/no): \").lower() == \"yes\"\n",
        "\n",
        "# If user wants to use an input image, ask for the image path and strength value\n",
        "if use_img2img:\n",
        "    img_path = input(\"Enter the path to the input image (e.g., 'input.png'): \")\n",
        "    init_image = Image.open(img_path).convert(\"RGB\")\n",
        "    init_image = init_image.resize((512, 512))  # Resize to 512x512 to match model's input size\n",
        "    strength = float(input(\"Enter the strength value for the input image (0.0-1.0, where 1.0 ignores the image): \"))\n",
        "\n",
        "# Create a folder to save generated images\n",
        "output_dir = \"generated_images\"\n",
        "if not os.path.exists(output_dir):\n",
        "    os.makedirs(output_dir)\n",
        "\n",
        "# Run the generation process for the specified number of iterations\n",
        "for i in range(n_iter):\n",
        "    print(f\"Generating {n_images} images for iteration {i+1}/{n_iter}\")\n",
        "    for j in range(n_images):\n",
        "        if use_img2img:\n",
        "            # Image-to-image generation\n",
        "            with autocast(\"cuda\"):\n",
        "                if negative_prompt:\n",
        "                    image = pipe_img2img(prompt, init_image=init_image, strength=strength, negative_prompt=negative_prompt).images[0]\n",
        "                else:\n",
        "                    image = pipe_img2img(prompt, init_image=init_image, strength=strength).images[0]\n",
        "        else:\n",
        "            # Text-to-image generation\n",
        "            with autocast(\"cuda\"):\n",
        "                # Check if negative_prompt is not empty before passing it\n",
        "                if negative_prompt.strip():  # This checks if the string is not just whitespace\n",
        "                    image = pipe_txt2img(prompt, negative_prompt=negative_prompt).images[0]\n",
        "                else:\n",
        "                    image = pipe_txt2img(prompt).images[0]\n",
        "\n",
        "        # Save the image with a unique name\n",
        "        image_path = os.path.join(output_dir, f\"image_{i+1}_{j+1}.png\")\n",
        "        image.save(image_path)\n",
        "        print(f\"Saved image: {image_path}\")\n",
        "\n",
        "print(f\"Finished generating {n_images * n_iter} images. Check the {output_dir} folder.\")\n"
      ],
      "metadata": {
        "id": "HeYy4wVd-kZf"
      },
      "execution_count": null,
      "outputs": []
    }
  ]
}